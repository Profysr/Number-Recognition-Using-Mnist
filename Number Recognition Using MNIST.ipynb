{
 "cells": [
  {
   "cell_type": "code",
   "execution_count": 1,
   "id": "16be6a44",
   "metadata": {
    "tags": []
   },
   "outputs": [
    {
     "name": "stdout",
     "output_type": "stream",
     "text": [
      "WARNING:tensorflow:From C:\\Users\\BILAL AHMAD\\AppData\\Roaming\\Python\\Python311\\site-packages\\keras\\src\\losses.py:2976: The name tf.losses.sparse_softmax_cross_entropy is deprecated. Please use tf.compat.v1.losses.sparse_softmax_cross_entropy instead.\n",
      "\n"
     ]
    }
   ],
   "source": [
    "import tensorflow as tfl \n",
    "import matplotlib.pyplot as plt\n",
    "import random\n",
    "import numpy as np\n",
    "from tensorflow.keras.models import Sequential\n",
    "from tensorflow.keras.layers import Dropout,Activation,Conv2D,MaxPooling2D,Dense,Flatten\n",
    "## Dense represents the Fully Connected layer\n",
    "## DropOut Safes the model from overfitting"
   ]
  },
  {
   "cell_type": "markdown",
   "id": "5cc991f6",
   "metadata": {},
   "source": [
    "## Load the Dataset"
   ]
  },
  {
   "cell_type": "code",
   "execution_count": 2,
   "id": "fe63050e",
   "metadata": {
    "tags": []
   },
   "outputs": [
    {
     "data": {
      "text/plain": [
       "(60000, 28, 28)"
      ]
     },
     "execution_count": 2,
     "metadata": {},
     "output_type": "execute_result"
    }
   ],
   "source": [
    "dataset = tfl.keras.datasets.mnist\n",
    "(x_train,y_train),(x_test,y_test) = dataset.load_data()\n",
    "x_train.shape"
   ]
  },
  {
   "cell_type": "code",
   "execution_count": 3,
   "id": "0bb99c4b",
   "metadata": {},
   "outputs": [
    {
     "data": {
      "image/png": "[encoded data removed]",
      "text/plain": [
       "<Figure size 640x480 with 1 Axes>"
      ]
     },
     "metadata": {},
     "output_type": "display_data"
    },
    {
     "name": "stdout",
     "output_type": "stream",
     "text": [
      "The Label of this data is: 4\n"
     ]
    }
   ],
   "source": [
    "idx = random.randint(0 , len(x_train))\n",
    "plt.imshow(x_train[idx])\n",
    "plt.show()\n",
    "print(\"The Label of this data is: \"+ str(y_train[idx]))"
   ]
  },
  {
   "cell_type": "code",
   "execution_count": 4,
   "id": "73631503",
   "metadata": {},
   "outputs": [],
   "source": [
    "## plt.imshow(x_train[1],cmap = plt.cm.binary)"
   ]
  },
  {
   "cell_type": "markdown",
   "id": "b0c91f7f",
   "metadata": {},
   "source": [
    "## Normalizing the Data "
   ]
  },
  {
   "cell_type": "code",
   "execution_count": 5,
   "id": "67dca4f0",
   "metadata": {},
   "outputs": [],
   "source": [
    "x_train = tfl.keras.utils.normalize(x_train,axis=1)\n",
    "x_test = tfl.keras.utils.normalize(x_test,axis=1)"
   ]
  },
  {
   "cell_type": "code",
   "execution_count": 6,
   "id": "e5aa2bc0",
   "metadata": {},
   "outputs": [],
   "source": [
    "# plt.imshow(x_train[1],cmap=plt.cm.binary)"
   ]
  },
  {
   "cell_type": "code",
   "execution_count": 7,
   "id": "2bc12d7f",
   "metadata": {},
   "outputs": [],
   "source": [
    "# print(y_train[1])"
   ]
  },
  {
   "cell_type": "markdown",
   "id": "0a47292a",
   "metadata": {},
   "source": [
    "## Reshaping the Data "
   ]
  },
  {
   "cell_type": "code",
   "execution_count": 8,
   "id": "d80a0a35",
   "metadata": {},
   "outputs": [
    {
     "name": "stdout",
     "output_type": "stream",
     "text": [
      "Training Sample (60000, 28, 28, 1)\n",
      "Testing Sample (10000, 28, 28, 1)\n"
     ]
    }
   ],
   "source": [
    "IMGSIZE = 28\n",
    "x_train = np.array(x_train).reshape(-1,IMGSIZE,IMGSIZE,1) ##increasing one dimension for kernel filter\n",
    "x_test = np.array(x_test).reshape(-1,IMGSIZE,IMGSIZE,1)\n",
    "print(\"Training Sample\",x_train.shape)\n",
    "print(\"Testing Sample\",x_test.shape)"
   ]
  },
  {
   "cell_type": "code",
   "execution_count": 9,
   "id": "0f7f0671",
   "metadata": {},
   "outputs": [
    {
     "name": "stdout",
     "output_type": "stream",
     "text": [
      "WARNING:tensorflow:From C:\\Users\\BILAL AHMAD\\AppData\\Roaming\\Python\\Python311\\site-packages\\keras\\src\\backend.py:873: The name tf.get_default_graph is deprecated. Please use tf.compat.v1.get_default_graph instead.\n",
      "\n",
      "WARNING:tensorflow:From C:\\Users\\BILAL AHMAD\\AppData\\Roaming\\Python\\Python311\\site-packages\\keras\\src\\layers\\pooling\\max_pooling2d.py:161: The name tf.nn.max_pool is deprecated. Please use tf.nn.max_pool2d instead.\n",
      "\n"
     ]
    }
   ],
   "source": [
    "### creating neural model\n",
    "model = Sequential()\n",
    "\n",
    "##applying convolution \n",
    "model.add(Conv2D(64, (3,3), input_shape=(28,28,1))) ##x_train.shape[1:]\n",
    "model.add(Activation(\"relu\"))\n",
    "model.add(MaxPooling2D(pool_size=(2,2))) \n",
    "\n",
    "model.add(Conv2D(64, (3,3)))\n",
    "model.add(Activation(\"relu\"))\n",
    "model.add(MaxPooling2D(pool_size=(2,2))) \n",
    "\n",
    "model.add(Conv2D(64, (3,3)))\n",
    "model.add(Activation(\"relu\"))\n",
    "model.add(MaxPooling2D(pool_size=(2,2))) \n",
    "\n",
    "##Fully Connected Layer\n",
    "model.add(Flatten())\n",
    "model.add(Dense(64))\n",
    "model.add(Activation(\"relu\"))\n",
    "\n",
    "model.add(Dense(32))\n",
    "model.add(Activation(\"relu\"))\n",
    "\n",
    "model.add(Dense(10))\n",
    "model.add(Activation(\"softmax\"))\n"
   ]
  },
  {
   "cell_type": "code",
   "execution_count": 10,
   "id": "ac8c73bf",
   "metadata": {},
   "outputs": [
    {
     "name": "stdout",
     "output_type": "stream",
     "text": [
      "Model: \"sequential\"\n",
      "_________________________________________________________________\n",
      " Layer (type)                Output Shape              Param #   \n",
      "=================================================================\n",
      " conv2d (Conv2D)             (None, 26, 26, 64)        640       \n",
      "                                                                 \n",
      " activation (Activation)     (None, 26, 26, 64)        0         \n",
      "                                                                 \n",
      " max_pooling2d (MaxPooling2  (None, 13, 13, 64)        0         \n",
      " D)                                                              \n",
      "                                                                 \n",
      " conv2d_1 (Conv2D)           (None, 11, 11, 64)        36928     \n",
      "                                                                 \n",
      " activation_1 (Activation)   (None, 11, 11, 64)        0         \n",
      "                                                                 \n",
      " max_pooling2d_1 (MaxPoolin  (None, 5, 5, 64)          0         \n",
      " g2D)                                                            \n",
      "                                                                 \n",
      " conv2d_2 (Conv2D)           (None, 3, 3, 64)          36928     \n",
      "                                                                 \n",
      " activation_2 (Activation)   (None, 3, 3, 64)          0         \n",
      "                                                                 \n",
      " max_pooling2d_2 (MaxPoolin  (None, 1, 1, 64)          0         \n",
      " g2D)                                                            \n",
      "                                                                 \n",
      " flatten (Flatten)           (None, 64)                0         \n",
      "                                                                 \n",
      " dense (Dense)               (None, 64)                4160      \n",
      "                                                                 \n",
      " activation_3 (Activation)   (None, 64)                0         \n",
      "                                                                 \n",
      " dense_1 (Dense)             (None, 32)                2080      \n",
      "                                                                 \n",
      " activation_4 (Activation)   (None, 32)                0         \n",
      "                                                                 \n",
      " dense_2 (Dense)             (None, 10)                330       \n",
      "                                                                 \n",
      " activation_5 (Activation)   (None, 10)                0         \n",
      "                                                                 \n",
      "=================================================================\n",
      "Total params: 81066 (316.66 KB)\n",
      "Trainable params: 81066 (316.66 KB)\n",
      "Non-trainable params: 0 (0.00 Byte)\n",
      "_________________________________________________________________\n"
     ]
    }
   ],
   "source": [
    "model.summary()"
   ]
  },
  {
   "cell_type": "markdown",
   "id": "f648794b",
   "metadata": {},
   "source": [
    "## Compilation of Model "
   ]
  },
  {
   "cell_type": "code",
   "execution_count": 11,
   "id": "5f4ed6af",
   "metadata": {},
   "outputs": [
    {
     "name": "stdout",
     "output_type": "stream",
     "text": [
      "WARNING:tensorflow:From C:\\Users\\BILAL AHMAD\\AppData\\Roaming\\Python\\Python311\\site-packages\\keras\\src\\optimizers\\__init__.py:309: The name tf.train.Optimizer is deprecated. Please use tf.compat.v1.train.Optimizer instead.\n",
      "\n"
     ]
    }
   ],
   "source": [
    "###compiling the model\n",
    "model.compile(loss=\"sparse_categorical_crossentropy\", optimizer='adam', metrics=['accuracy'])"
   ]
  },
  {
   "cell_type": "code",
   "execution_count": 12,
   "id": "218885c8",
   "metadata": {},
   "outputs": [
    {
     "name": "stdout",
     "output_type": "stream",
     "text": [
      "Epoch 1/5\n",
      "WARNING:tensorflow:From C:\\Users\\BILAL AHMAD\\AppData\\Roaming\\Python\\Python311\\site-packages\\keras\\src\\utils\\tf_utils.py:492: The name tf.ragged.RaggedTensorValue is deprecated. Please use tf.compat.v1.ragged.RaggedTensorValue instead.\n",
      "\n",
      "WARNING:tensorflow:From C:\\Users\\BILAL AHMAD\\AppData\\Roaming\\Python\\Python311\\site-packages\\keras\\src\\engine\\base_layer_utils.py:384: The name tf.executing_eagerly_outside_functions is deprecated. Please use tf.compat.v1.executing_eagerly_outside_functions instead.\n",
      "\n",
      "657/657 [==============================] - 46s 63ms/step - loss: 0.4105 - accuracy: 0.8709 - val_loss: 0.1716 - val_accuracy: 0.9458\n",
      "Epoch 2/5\n",
      "657/657 [==============================] - 39s 59ms/step - loss: 0.1310 - accuracy: 0.9607 - val_loss: 0.1011 - val_accuracy: 0.9686\n",
      "Epoch 3/5\n",
      "657/657 [==============================] - 39s 60ms/step - loss: 0.0923 - accuracy: 0.9719 - val_loss: 0.0858 - val_accuracy: 0.9737\n",
      "Epoch 4/5\n",
      "657/657 [==============================] - 40s 60ms/step - loss: 0.0753 - accuracy: 0.9761 - val_loss: 0.0763 - val_accuracy: 0.9767\n",
      "Epoch 5/5\n",
      "657/657 [==============================] - 38s 58ms/step - loss: 0.0613 - accuracy: 0.9810 - val_loss: 0.0686 - val_accuracy: 0.9782\n"
     ]
    }
   ],
   "source": [
    "no_of_epochs = 5\n",
    "history = model.fit(x_train,y_train,epochs=no_of_epochs,validation_split = 0.3,batch_size=64)"
   ]
  },
  {
   "cell_type": "code",
   "execution_count": 13,
   "id": "dd55d6f5",
   "metadata": {},
   "outputs": [
    {
     "data": {
      "text/plain": [
       "Text(0.5, 1.0, 'Loss')"
      ]
     },
     "execution_count": 13,
     "metadata": {},
     "output_type": "execute_result"
    },
    {
     "data": {
      "image/png": "[encoded data removed]",
      "text/plain": [
       "<Figure size 800x800 with 2 Axes>"
      ]
     },
     "metadata": {},
     "output_type": "display_data"
    }
   ],
   "source": [
    "epochs_range = range(no_of_epochs)\n",
    "plt.figure(figsize=(8,8))\n",
    "plt.subplot(1,2,1)\n",
    "plt.plot(epochs_range,history.history['accuracy'],label = 'Training Accuracy')\n",
    "plt.plot(epochs_range, history.history['val_accuracy'],label = 'Validation Accuracy')\n",
    "plt.title('Accuracy')\n",
    "\n",
    "plt.subplot(1,2,2)\n",
    "plt.plot(epochs_range,history.history['loss'],label = 'Training Loss')\n",
    "plt.plot(epochs_range, history.history['val_loss'],label = 'Validation Loss')\n",
    "plt.title('Loss')"
   ]
  },
  {
   "cell_type": "markdown",
   "id": "02e6e711",
   "metadata": {},
   "source": [
    "## Evaluating Testing on the model"
   ]
  },
  {
   "cell_type": "code",
   "execution_count": 14,
   "id": "3c8d6df0",
   "metadata": {},
   "outputs": [
    {
     "name": "stdout",
     "output_type": "stream",
     "text": [
      "313/313 [==============================] - 4s 11ms/step - loss: 0.0616 - accuracy: 0.9816\n"
     ]
    }
   ],
   "source": [
    "loss, accuracy = model.evaluate(x_test,y_test)"
   ]
  },
  {
   "cell_type": "code",
   "execution_count": 15,
   "id": "1801661d",
   "metadata": {},
   "outputs": [
    {
     "name": "stdout",
     "output_type": "stream",
     "text": [
      "Model Accuracy: 98.16%\n",
      "Model Accuracy: 98.16%\n"
     ]
    }
   ],
   "source": [
    "print(f\"Model Accuracy: {accuracy:.2%}\")\n",
    "print(\"Model Accuracy: {:.2%}\".format(accuracy))\n",
    "# predictions = model.predict([x_test_r])\n",
    "# print(np.argmax(predictions[1]))\n",
    "# plt.imshow(x_test[1])"
   ]
  },
  {
   "cell_type": "markdown",
   "id": "b27b006f",
   "metadata": {},
   "source": [
    "## Saving the Model"
   ]
  },
  {
   "cell_type": "code",
   "execution_count": 16,
   "id": "ada90c99",
   "metadata": {},
   "outputs": [
    {
     "data": {
      "text/plain": [
       "['model/save_model_by_joblib.keras']"
      ]
     },
     "execution_count": 16,
     "metadata": {},
     "output_type": "execute_result"
    }
   ],
   "source": [
    "from tensorflow.keras.models import save_model\n",
    "import joblib\n",
    "\n",
    "save_model(model, 'model/my_model.keras')\n",
    "model.save(\"model/save_my_model.keras\")\n",
    "joblib.dump(model,\"model/save_model_by_joblib.keras\")\n"
   ]
  },
  {
   "cell_type": "markdown",
   "id": "c7589329",
   "metadata": {},
   "source": [
    "## Load the Model"
   ]
  },
  {
   "cell_type": "code",
   "execution_count": 17,
   "id": "f1f79aa6",
   "metadata": {
    "scrolled": true
   },
   "outputs": [],
   "source": [
    "from tensorflow.keras.models import load_model\n",
    "\n",
    "model = load_model('model/my_model.keras')\n",
    "model_by_joblib=joblib.load(\"model/save_model_by_joblib.keras\")\n"
   ]
  },
  {
   "cell_type": "markdown",
   "id": "4b6678a6",
   "metadata": {},
   "source": [
    "## Making Predictions"
   ]
  },
  {
   "cell_type": "code",
   "execution_count": 18,
   "id": "87c8696f",
   "metadata": {},
   "outputs": [
    {
     "name": "stdout",
     "output_type": "stream",
     "text": [
      "1/1 [==============================] - 0s 214ms/step\n",
      "0\n"
     ]
    },
    {
     "data": {
      "image/png": "[encoded data removed]",
      "text/plain": [
       "<Figure size 640x480 with 1 Axes>"
      ]
     },
     "metadata": {},
     "output_type": "display_data"
    }
   ],
   "source": [
    "idx2 = random.randint(0,len(x_test))\n",
    "plt.imshow(x_test[idx2])\n",
    "\n",
    "pred = model.predict(x_test[idx2].reshape(1,28,28,1))\n",
    "print(np.argmax(pred))"
   ]
  },
  {
   "cell_type": "code",
   "execution_count": 19,
   "id": "380ecdbc",
   "metadata": {},
   "outputs": [],
   "source": [
    "# !pip list"
   ]
  },
  {
   "cell_type": "code",
   "execution_count": 20,
   "id": "46596d5d",
   "metadata": {},
   "outputs": [],
   "source": [
    "# import cv2\n",
    "# import time\n",
    "# import pyscreenshot as ImageGrab"
   ]
  },
  {
   "cell_type": "code",
   "execution_count": 21,
   "id": "8cd7617c",
   "metadata": {},
   "outputs": [],
   "source": [
    "# #prediction of image drawn in paint\n",
    "# # import joblib\n",
    "  \n",
    "# # model=joblib.load(\"model/digit_recognizer\")\n",
    "# images_folder=\"predicting_img/\"\n",
    "\n",
    "# while True:\n",
    "#     img=ImageGrab.grab(bbox=(60,170,400,500))\n",
    "#     img.save(images_folder+\"img.png\")\n",
    "#     im = cv2.imread(images_folder+\"img.png\")\n",
    "#     im_gray = cv2.cvtColor(im,cv2.COLOR_BGR2GRAY)\n",
    "#     im_gray  =cv2.GaussianBlur(im_gray, (15,15), 0)\n",
    "    \n",
    "#    #Threshold the image\n",
    "#     ret, im_th = cv2.threshold(im_gray,100, 255, cv2.THRESH_BINARY)\n",
    "#     roi = cv2.resize(im_th, (28,28), interpolation  =cv2.INTER_AREA)\n",
    "#     rows,cols=roi.shape    \n",
    "\n",
    "#     X = []\n",
    "# ##  Fill the data array with pixels one by one.\n",
    "# for i in range(rows):\n",
    "#     for j in range(cols):\n",
    "#         k = roi[i,j]\n",
    "#         if k>100:\n",
    "#             k=0\n",
    "#         else:\n",
    "#             k=1\n",
    "#         X.append(k)\n",
    "           \n",
    "            \n",
    "# predictions  = model.predict([X])\n",
    "\n",
    "# print(\"Prediction:\",predictions[0])   \n",
    "# cv2.putText(im, \"Prediction is: \"+str(predictions[0]), (20,20), 0, 0.8,(0,255,0),2,cv2.LINE_AA)\n",
    "# cv2.startWindowThread()\n",
    "# cv2.namedWindow(\"Result\")\n",
    "# cv2.imshow(\"Result\",im)\n",
    "# cv2.waitKey(10000)\n",
    "# if cv2.waitKey(1)==13: #27 is the ascii value of esc, 13 is the ascii value of enter\n",
    "#        break\n",
    "# cv2.destroyAllWindows()"
   ]
  }
 ],
 "metadata": {
  "kernelspec": {
   "display_name": "Python 3 (ipykernel)",
   "language": "python",
   "name": "python3"
  },
  "language_info": {
   "codemirror_mode": {
    "name": "ipython",
    "version": 3
   },
   "file_extension": ".py",
   "mimetype": "text/x-python",
   "name": "python",
   "nbconvert_exporter": "python",
   "pygments_lexer": "ipython3",
   "version": "3.11.5"
  }
 },
 "nbformat": 4,
 "nbformat_minor": 5
}
