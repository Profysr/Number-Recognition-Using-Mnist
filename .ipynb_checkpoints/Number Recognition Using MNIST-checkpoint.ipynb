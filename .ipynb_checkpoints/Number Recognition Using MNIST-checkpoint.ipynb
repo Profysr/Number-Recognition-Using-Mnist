{
 "cells": [
  {
   "cell_type": "code",
   "execution_count": 2,
   "id": "16be6a44",
   "metadata": {
    "tags": []
   },
   "outputs": [
    {
     "name": "stdout",
     "output_type": "stream",
     "text": [
      "WARNING:tensorflow:From C:\\Users\\BILAL AHMAD\\AppData\\Roaming\\Python\\Python311\\site-packages\\keras\\src\\losses.py:2976: The name tf.losses.sparse_softmax_cross_entropy is deprecated. Please use tf.compat.v1.losses.sparse_softmax_cross_entropy instead.\n",
      "\n"
     ]
    }
   ],
   "source": [
    "import tensorflow as tfl \n",
    "import matplotlib.pyplot as plt\n",
    "import random\n",
    "import numpy as np\n",
    "from tensorflow.keras.models import Sequential\n",
    "from tensorflow.keras.layers import Dropout,Activation,Conv2D,MaxPooling2D,Dense,Flatten\n",
    "## Dense represents the Fully Connected layer\n",
    "## DropOut Safes the model from overfitting"
   ]
  },
  {
   "cell_type": "markdown",
   "id": "5cc991f6",
   "metadata": {},
   "source": [
    "## Load the Dataset"
   ]
  },
  {
   "cell_type": "code",
   "execution_count": 4,
   "id": "fe63050e",
   "metadata": {
    "tags": []
   },
   "outputs": [
    {
     "ename": "AttributeError",
     "evalue": "module 'keras.api._v2.keras.datasets.mnist' has no attribute 'class_names'",
     "output_type": "error",
     "traceback": [
      "\u001b[1;31m---------------------------------------------------------------------------\u001b[0m",
      "\u001b[1;31mAttributeError\u001b[0m                            Traceback (most recent call last)",
      "Cell \u001b[1;32mIn[4], line 5\u001b[0m\n\u001b[0;32m      2\u001b[0m (x_train,y_train),(x_test,y_test) \u001b[38;5;241m=\u001b[39m dataset\u001b[38;5;241m.\u001b[39mload_data()\n\u001b[0;32m      3\u001b[0m x_train\u001b[38;5;241m.\u001b[39mshape\n\u001b[1;32m----> 5\u001b[0m dataset\u001b[38;5;241m.\u001b[39mclass_names\n",
      "\u001b[1;31mAttributeError\u001b[0m: module 'keras.api._v2.keras.datasets.mnist' has no attribute 'class_names'"
     ]
    }
   ],
   "source": [
    "dataset = tfl.keras.datasets.mnist\n",
    "(x_train,y_train),(x_test,y_test) = dataset.load_data()\n",
    "x_train.shape"
   ]
  },
  {
   "cell_type": "code",
   "execution_count": 3,
   "id": "0bb99c4b",
   "metadata": {},
   "outputs": [
    {
     "data": {
      "image/png": "[encoded data removed]",
      "text/plain": [
       "<Figure size 640x480 with 1 Axes>"
      ]
     },
     "metadata": {},
     "output_type": "display_data"
    },
    {
     "name": "stdout",
     "output_type": "stream",
     "text": [
      "The Label of this data is: 2\n"
     ]
    }
   ],
   "source": [
    "idx = random.randint(0 , len(x_train))\n",
    "plt.imshow(x_train[idx])\n",
    "plt.show()\n",
    "print(\"The Label of this data is: \"+ str(y_train[idx]))"
   ]
  },
  {
   "cell_type": "code",
   "execution_count": 4,
   "id": "73631503",
   "metadata": {},
   "outputs": [],
   "source": [
    "## plt.imshow(x_train[1],cmap = plt.cm.binary)"
   ]
  },
  {
   "cell_type": "markdown",
   "id": "b0c91f7f",
   "metadata": {},
   "source": [
    "## Normalizing the Data "
   ]
  },
  {
   "cell_type": "code",
   "execution_count": 5,
   "id": "67dca4f0",
   "metadata": {},
   "outputs": [],
   "source": [
    "x_train = tfl.keras.utils.normalize(x_train,axis=1)\n",
    "x_test = tfl.keras.utils.normalize(x_test,axis=1)"
   ]
  },
  {
   "cell_type": "code",
   "execution_count": 6,
   "id": "e5aa2bc0",
   "metadata": {},
   "outputs": [],
   "source": [
    "# plt.imshow(x_train[1],cmap=plt.cm.binary)"
   ]
  },
  {
   "cell_type": "code",
   "execution_count": 7,
   "id": "2bc12d7f",
   "metadata": {},
   "outputs": [],
   "source": [
    "# print(y_train[1])"
   ]
  },
  {
   "cell_type": "markdown",
   "id": "0a47292a",
   "metadata": {},
   "source": [
    "## Reshaping the Data "
   ]
  },
  {
   "cell_type": "code",
   "execution_count": 8,
   "id": "d80a0a35",
   "metadata": {},
   "outputs": [
    {
     "name": "stdout",
     "output_type": "stream",
     "text": [
      "Training Sample (60000, 28, 28, 1)\n",
      "Testing Sample (10000, 28, 28, 1)\n"
     ]
    }
   ],
   "source": [
    "IMGSIZE = 28\n",
    "x_train = np.array(x_train).reshape(-1,IMGSIZE,IMGSIZE,1) ##increasing one dimension for kernel filter\n",
    "x_test = np.array(x_test).reshape(-1,IMGSIZE,IMGSIZE,1)\n",
    "print(\"Training Sample\",x_train.shape)\n",
    "print(\"Testing Sample\",x_test.shape)"
   ]
  },
  {
   "cell_type": "code",
   "execution_count": 9,
   "id": "0f7f0671",
   "metadata": {},
   "outputs": [
    {
     "name": "stdout",
     "output_type": "stream",
     "text": [
      "WARNING:tensorflow:From C:\\Users\\BILAL AHMAD\\AppData\\Roaming\\Python\\Python311\\site-packages\\keras\\src\\backend.py:873: The name tf.get_default_graph is deprecated. Please use tf.compat.v1.get_default_graph instead.\n",
      "\n",
      "WARNING:tensorflow:From C:\\Users\\BILAL AHMAD\\AppData\\Roaming\\Python\\Python311\\site-packages\\keras\\src\\layers\\pooling\\max_pooling2d.py:161: The name tf.nn.max_pool is deprecated. Please use tf.nn.max_pool2d instead.\n",
      "\n"
     ]
    }
   ],
   "source": [
    "### creating neural model\n",
    "model = Sequential()\n",
    "\n",
    "##applying convolution \n",
    "model.add(Conv2D(64, (3,3), input_shape=(28,28,1))) ##x_train.shape[1:]\n",
    "model.add(Activation(\"relu\"))\n",
    "model.add(MaxPooling2D(pool_size=(2,2))) \n",
    "\n",
    "model.add(Conv2D(64, (3,3)))\n",
    "model.add(Activation(\"relu\"))\n",
    "model.add(MaxPooling2D(pool_size=(2,2))) \n",
    "\n",
    "model.add(Conv2D(64, (3,3)))\n",
    "model.add(Activation(\"relu\"))\n",
    "model.add(MaxPooling2D(pool_size=(2,2))) \n",
    "\n",
    "##Fully Connected Layer\n",
    "model.add(Flatten())\n",
    "model.add(Dense(64))\n",
    "model.add(Activation(\"relu\"))\n",
    "\n",
    "model.add(Dense(32))\n",
    "model.add(Activation(\"relu\"))\n",
    "\n",
    "model.add(Dense(10))\n",
    "model.add(Activation(\"softmax\"))\n"
   ]
  },
  {
   "cell_type": "code",
   "execution_count": 10,
   "id": "ac8c73bf",
   "metadata": {},
   "outputs": [
    {
     "name": "stdout",
     "output_type": "stream",
     "text": [
      "Model: \"sequential\"\n",
      "_________________________________________________________________\n",
      " Layer (type)                Output Shape              Param #   \n",
      "=================================================================\n",
      " conv2d (Conv2D)             (None, 26, 26, 64)        640       \n",
      "                                                                 \n",
      " activation (Activation)     (None, 26, 26, 64)        0         \n",
      "                                                                 \n",
      " max_pooling2d (MaxPooling2  (None, 13, 13, 64)        0         \n",
      " D)                                                              \n",
      "                                                                 \n",
      " conv2d_1 (Conv2D)           (None, 11, 11, 64)        36928     \n",
      "                                                                 \n",
      " activation_1 (Activation)   (None, 11, 11, 64)        0         \n",
      "                                                                 \n",
      " max_pooling2d_1 (MaxPoolin  (None, 5, 5, 64)          0         \n",
      " g2D)                                                            \n",
      "                                                                 \n",
      " conv2d_2 (Conv2D)           (None, 3, 3, 64)          36928     \n",
      "                                                                 \n",
      " activation_2 (Activation)   (None, 3, 3, 64)          0         \n",
      "                                                                 \n",
      " max_pooling2d_2 (MaxPoolin  (None, 1, 1, 64)          0         \n",
      " g2D)                                                            \n",
      "                                                                 \n",
      " flatten (Flatten)           (None, 64)                0         \n",
      "                                                                 \n",
      " dense (Dense)               (None, 64)                4160      \n",
      "                                                                 \n",
      " activation_3 (Activation)   (None, 64)                0         \n",
      "                                                                 \n",
      " dense_1 (Dense)             (None, 32)                2080      \n",
      "                                                                 \n",
      " activation_4 (Activation)   (None, 32)                0         \n",
      "                                                                 \n",
      " dense_2 (Dense)             (None, 10)                330       \n",
      "                                                                 \n",
      " activation_5 (Activation)   (None, 10)                0         \n",
      "                                                                 \n",
      "=================================================================\n",
      "Total params: 81066 (316.66 KB)\n",
      "Trainable params: 81066 (316.66 KB)\n",
      "Non-trainable params: 0 (0.00 Byte)\n",
      "_________________________________________________________________\n"
     ]
    }
   ],
   "source": [
    "model.summary()"
   ]
  },
  {
   "cell_type": "markdown",
   "id": "f648794b",
   "metadata": {},
   "source": [
    "## Compilation of Model "
   ]
  },
  {
   "cell_type": "code",
   "execution_count": 11,
   "id": "5f4ed6af",
   "metadata": {},
   "outputs": [
    {
     "name": "stdout",
     "output_type": "stream",
     "text": [
      "WARNING:tensorflow:From C:\\Users\\BILAL AHMAD\\AppData\\Roaming\\Python\\Python311\\site-packages\\keras\\src\\optimizers\\__init__.py:309: The name tf.train.Optimizer is deprecated. Please use tf.compat.v1.train.Optimizer instead.\n",
      "\n"
     ]
    }
   ],
   "source": [
    "###compiling the model\n",
    "model.compile(loss=\"sparse_categorical_crossentropy\", optimizer='adam', metrics=['accuracy'])"
   ]
  },
  {
   "cell_type": "code",
   "execution_count": 16,
   "id": "218885c8",
   "metadata": {},
   "outputs": [
    {
     "name": "stdout",
     "output_type": "stream",
     "text": [
      "Epoch 1/2\n",
      "657/657 [==============================] - 31s 47ms/step - loss: 0.0605 - accuracy: 0.9816 - val_loss: 0.0697 - val_accuracy: 0.9778\n",
      "Epoch 2/2\n",
      "657/657 [==============================] - 30s 45ms/step - loss: 0.0499 - accuracy: 0.9850 - val_loss: 0.0644 - val_accuracy: 0.9808\n"
     ]
    },
    {
     "data": {
      "text/plain": [
       "<keras.src.callbacks.History at 0x22219125e90>"
      ]
     },
     "execution_count": 16,
     "metadata": {},
     "output_type": "execute_result"
    }
   ],
   "source": [
    "no_of_epochs = 2\n",
    "model.fit(x_train,y_train,epochs=no_of_epochs,validation_split = 0.3,batch_size=64)"
   ]
  },
  {
   "cell_type": "markdown",
   "id": "02e6e711",
   "metadata": {},
   "source": [
    "## Evaluating Testing on the model"
   ]
  },
  {
   "cell_type": "code",
   "execution_count": 13,
   "id": "3c8d6df0",
   "metadata": {},
   "outputs": [
    {
     "name": "stdout",
     "output_type": "stream",
     "text": [
      "313/313 [==============================] - 3s 9ms/step - loss: 0.0777 - accuracy: 0.9756\n"
     ]
    },
    {
     "data": {
      "text/plain": [
       "[0.07773929089307785, 0.975600004196167]"
      ]
     },
     "execution_count": 13,
     "metadata": {},
     "output_type": "execute_result"
    }
   ],
   "source": [
    "model.evaluate(x_test,y_test)"
   ]
  },
  {
   "cell_type": "code",
   "execution_count": 14,
   "id": "1801661d",
   "metadata": {},
   "outputs": [],
   "source": [
    "# predictions = model.predict([x_test_r])\n",
    "# print(np.argmax(predictions[1]))\n",
    "# plt.imshow(x_test[1])"
   ]
  },
  {
   "cell_type": "markdown",
   "id": "4b6678a6",
   "metadata": {},
   "source": [
    "## Making Predictions"
   ]
  },
  {
   "cell_type": "code",
   "execution_count": 19,
   "id": "87c8696f",
   "metadata": {},
   "outputs": [
    {
     "name": "stdout",
     "output_type": "stream",
     "text": [
      "1/1 [==============================] - 0s 31ms/step\n",
      "2\n"
     ]
    },
    {
     "data": {
      "image/png": "[encoded data removed]",
      "text/plain": [
       "<Figure size 640x480 with 1 Axes>"
      ]
     },
     "metadata": {},
     "output_type": "display_data"
    }
   ],
   "source": [
    "idx2 = random.randint(0,len(x_test))\n",
    "plt.imshow(x_test[idx2])\n",
    "\n",
    "pred = model.predict(x_test[idx2].reshape(1,28,28,1))\n",
    "print(np.argmax(pred))"
   ]
  },
  {
   "cell_type": "code",
   "execution_count": null,
   "id": "dd6026a7",
   "metadata": {},
   "outputs": [],
   "source": []
  }
 ],
 "metadata": {
  "kernelspec": {
   "display_name": "Python 3 (ipykernel)",
   "language": "python",
   "name": "python3"
  },
  "language_info": {
   "codemirror_mode": {
    "name": "ipython",
    "version": 3
   },
   "file_extension": ".py",
   "mimetype": "text/x-python",
   "name": "python",
   "nbconvert_exporter": "python",
   "pygments_lexer": "ipython3",
   "version": "3.11.5"
  }
 },
 "nbformat": 4,
 "nbformat_minor": 5
}
